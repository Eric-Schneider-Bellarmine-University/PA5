{
 "cells": [
  {
   "cell_type": "markdown",
   "id": "048343e5",
   "metadata": {},
   "source": [
    "# Programming Assignment 5\n",
    "### Eric Schneider\n",
    "##### Version 1\n",
    "##### CS-150 Fall 2021 Semester"
   ]
  },
  {
   "cell_type": "markdown",
   "id": "36df70c1",
   "metadata": {},
   "source": [
    "### A. Language Translator - write a program that implements a translation dictionary using a Python dictionary data structure that maps 20 English words to 20 words in another language (e.g. Spanish, German, Farsi, Arabic, Japanese, etc.). The keys in your dictionary should be English (all lower case) and your values should be in your target language (also all lower case). Your program should ask for words in English to translate to your target language until the user enters the number zero (0). "
   ]
  },
  {
   "cell_type": "code",
   "execution_count": 30,
   "id": "c55909b4",
   "metadata": {},
   "outputs": [
    {
     "name": "stdout",
     "output_type": "stream",
     "text": [
      "enter a word to translate.ball\n",
      "pelota\n",
      "enter a word to translate.water\n",
      "The word you entered is not in this dictionary.\n",
      "enter a word to translate.september\n",
      "septiembre\n",
      "enter a word to translate.one\n",
      "uno\n",
      "enter a word to translate.0\n"
     ]
    }
   ],
   "source": [
    "spanish_translator={'bed':'cama',\n",
    "                    'ball':'pelota',\n",
    "                    'activity':'actividad',\n",
    "                    'moment':'momento',\n",
    "                    'one':'uno',\n",
    "                    'ability':'capacidad',\n",
    "                    'sword':'espada',\n",
    "                    'word':'palabra',\n",
    "                    'world':'mundo',\n",
    "                    'game':'juego',\n",
    "                    'happy':'feliz',\n",
    "                    'sad':'triste',\n",
    "                    'queen':'reina',\n",
    "                    'king':'rey',\n",
    "                    'wish':'deseo',\n",
    "                    'cat':'gato',\n",
    "                    'september':'septiembre',\n",
    "                    'october':'octubre',\n",
    "                    'november':'noviembre',\n",
    "                    'december':'deciembre',}\n",
    "\n",
    "def translate():\n",
    "    while True:\n",
    "        word=input('enter a word to translate.')\n",
    "        if word!='0':\n",
    "            try:\n",
    "                spanish_translator[word]\n",
    "            except:\n",
    "                print('The word you entered is not in this dictionary.')\n",
    "            else:\n",
    "                print(spanish_translator[word])\n",
    "        else:\n",
    "            return\n",
    "translate()"
   ]
  },
  {
   "cell_type": "markdown",
   "id": "bd2c5e1c",
   "metadata": {},
   "source": [
    "### B. Temperature converter- create a weather dictionary that will contain temperature data at month of September of Louisville, Kentucky. The key will be the day of the month and the value will be the temperature in Fahrenheit. \n",
    "### 1. Access each temperature values which is in Fahrenheit from the dictionary and convert it to Celsius and return to the original dictionary. \n",
    "### 2. Find the coolest and second warmest day of the month (tip: think how to get list from dict and use list functions)"
   ]
  },
  {
   "cell_type": "code",
   "execution_count": 53,
   "id": "75d00899",
   "metadata": {},
   "outputs": [
    {
     "name": "stdout",
     "output_type": "stream",
     "text": [
      "{1: 27.77777777777778, 2: 27.22222222222222, 3: 27.22222222222222, 4: 27.22222222222222, 5: 25.0, 6: 28.88888888888889, 7: 28.88888888888889, 8: 26.11111111111111, 9: 25.0, 10: 31.666666666666668, 11: 27.77777777777778, 12: 30.0, 13: 31.11111111111111, 14: 30.0, 15: 26.11111111111111, 16: 27.22222222222222, 17: 30.0, 18: 30.0, 19: 28.88888888888889, 20: 23.88888888888889, 21: 25.0, 22: 16.11111111111111, 23: 20.0, 24: 22.77777777777778, 25: 21.11111111111111, 26: 23.88888888888889, 27: 27.77777777777778, 28: 28.88888888888889, 29: 30.0, 30: 27.77777777777778}\n",
      "\n",
      " {1: 82.0, 2: 81.0, 3: 81.0, 4: 81.0, 5: 77.0, 6: 84.0, 7: 84.0, 8: 79.0, 9: 77.0, 10: 89.0, 11: 82.0, 12: 86.0, 13: 88.0, 14: 86.0, 15: 79.0, 16: 81.0, 17: 86.0, 18: 86.0, 19: 84.0, 20: 75.0, 21: 77.0, 22: 61.0, 23: 68.0, 24: 73.0, 25: 70.0, 26: 75.0, 27: 82.0, 28: 84.0, 29: 86.0, 30: 82.0} \n",
      "\n",
      "The coolest day of the month was september 21 with a temperature of 61.0 degrees.\n",
      "The second warmest day of the month was september 12 with a temperature of 88.0 degrees.\n"
     ]
    }
   ],
   "source": [
    "temperatures={1:82,\n",
    "              2:81,\n",
    "              3:81,\n",
    "              4:81,\n",
    "              5:77,\n",
    "              6:84,\n",
    "              7:84,\n",
    "              8:79,\n",
    "              9:77,\n",
    "              10:89,\n",
    "              11:82,\n",
    "              12:86,\n",
    "              13:88,\n",
    "              14:86,\n",
    "              15:79,\n",
    "              16:81,\n",
    "              17:86,\n",
    "              18:86,\n",
    "              19:84,\n",
    "              20:75,\n",
    "              21:77,\n",
    "              22:61,\n",
    "              23:68,\n",
    "              24:73,\n",
    "              25:70,\n",
    "              26:75,\n",
    "              27:82,\n",
    "              28:84,\n",
    "              29:86,\n",
    "              30:82}\n",
    "\n",
    "def f_to_c():\n",
    "    for items in temperatures:\n",
    "        temperatures[items]=(temperatures[items]-32)*5/9\n",
    "    return temperatures\n",
    "def c_to_f():\n",
    "    for items in temperatures:\n",
    "        temperatures[items]=(temperatures[items]*9/5)+32\n",
    "    return temperatures\n",
    "print(f_to_c())\n",
    "print('\\n',c_to_f(),'\\n')\n",
    "temp_keys=list(temperatures.keys())\n",
    "temp_values=list(temperatures.values())\n",
    "temp_values.pop(temp_values.index(max(temp_values)))\n",
    "print(f'The coolest day of the month was september {temp_keys[temp_values.index(min(temp_values))]} with a temperature of {min(temp_values)} degrees.')\n",
    "print(f'The second warmest day of the month was september {temp_keys[temp_values.index(max(temp_values))]} with a temperature of {max(temp_values)} degrees.')"
   ]
  },
  {
   "cell_type": "markdown",
   "id": "367f9637",
   "metadata": {},
   "source": [
    "### C. Methods for sets"
   ]
  },
  {
   "cell_type": "markdown",
   "id": "23bf4d73",
   "metadata": {},
   "source": [
    "I. systemattic difference(^): Takes two sets and returns only the values that are unique between both of the designated sets. Order of sets does not affect the overall outcome."
   ]
  },
  {
   "cell_type": "code",
   "execution_count": 1,
   "id": "16c128b4",
   "metadata": {},
   "outputs": [
    {
     "name": "stdout",
     "output_type": "stream",
     "text": [
      "{5, 6, 9, 11, 43}\n"
     ]
    }
   ],
   "source": [
    "set1={1,2,3,4,5,6,7,8,9}\n",
    "set2={1,2,3,4,7,8,11,43}\n",
    "print(set1^set2)"
   ]
  },
  {
   "cell_type": "markdown",
   "id": "878ddf99",
   "metadata": {},
   "source": [
    "II. isdisjoint(): Returns true if the designated sets are disjointed, meaning they share no entries with each other. "
   ]
  },
  {
   "cell_type": "code",
   "execution_count": 2,
   "id": "a8f3e7c2",
   "metadata": {},
   "outputs": [
    {
     "name": "stdout",
     "output_type": "stream",
     "text": [
      "True\n"
     ]
    }
   ],
   "source": [
    "set1={1,2,3,4,5}\n",
    "set2={6,7,8,9,10}\n",
    "print(set1.isdisjoint(set2))"
   ]
  },
  {
   "cell_type": "markdown",
   "id": "72866227",
   "metadata": {},
   "source": [
    "III. intersection_update(&=): Updates the designated list to include values which exist in both of the given sets."
   ]
  },
  {
   "cell_type": "code",
   "execution_count": 7,
   "id": "7834b2af",
   "metadata": {},
   "outputs": [
    {
     "name": "stdout",
     "output_type": "stream",
     "text": [
      "{1, 2, 3, 4}\n"
     ]
    }
   ],
   "source": [
    "set1={1,2,3,4,5,6,7,8,9}\n",
    "set2={1,2,3,4,11,12,13}\n",
    "set1&=set2\n",
    "print(set1)"
   ]
  },
  {
   "cell_type": "markdown",
   "id": "91145477",
   "metadata": {},
   "source": [
    "IV. symmetric_difference (^=): Updates the designated set to only include unique values between the given sets."
   ]
  },
  {
   "cell_type": "code",
   "execution_count": 8,
   "id": "baa6aa23",
   "metadata": {},
   "outputs": [
    {
     "name": "stdout",
     "output_type": "stream",
     "text": [
      "{6, 7, 11, 12}\n"
     ]
    }
   ],
   "source": [
    "set1={1,2,3,4,5,6,7,8,9}\n",
    "set2={1,2,3,4,5,8,9,11,12}\n",
    "set1^=set2\n",
    "print(set1)"
   ]
  },
  {
   "cell_type": "markdown",
   "id": "6357e904",
   "metadata": {},
   "source": [
    "V. revove(): Removes a designated value frm the given set. Must give the value as sets do not utilize indexing. Will result in an error if the value is not in the set"
   ]
  },
  {
   "cell_type": "code",
   "execution_count": 12,
   "id": "a73a4e5d",
   "metadata": {},
   "outputs": [
    {
     "name": "stdout",
     "output_type": "stream",
     "text": [
      "{2, 3, 4, 5, 6, 7, 8, 9}\n"
     ]
    }
   ],
   "source": [
    "set1={1,2,3,4,5,6,7,8,9}\n",
    "set1.remove(1)\n",
    "print(set1)"
   ]
  },
  {
   "cell_type": "markdown",
   "id": "f4d182c5",
   "metadata": {},
   "source": [
    "VI. discard(): Removes a designated value from a given set. Must give the value as sets do not utilize indexing. Will not result in an error if the value is not in the set."
   ]
  },
  {
   "cell_type": "code",
   "execution_count": 14,
   "id": "0b822d1b",
   "metadata": {},
   "outputs": [
    {
     "name": "stdout",
     "output_type": "stream",
     "text": [
      "{2, 3, 4, 5, 6, 7, 8, 9}\n"
     ]
    }
   ],
   "source": [
    "set1={1,2,3,4,5,6,7,8,9}\n",
    "set1.discard(1)\n",
    "set1.discard(1)\n",
    "print(set1)"
   ]
  },
  {
   "cell_type": "markdown",
   "id": "092f8f50",
   "metadata": {},
   "source": [
    ".pop(): Removes the designated value from the given set with the ability to designate it as its own entity. Takes no arguments and will always pop the first entity in the set."
   ]
  },
  {
   "cell_type": "code",
   "execution_count": 20,
   "id": "bf738dd4",
   "metadata": {},
   "outputs": [
    {
     "name": "stdout",
     "output_type": "stream",
     "text": [
      "{2, 3, 4, 5, 6, 7, 8, 9}\n"
     ]
    }
   ],
   "source": [
    "set1={1,2,3,4,5,6,7,8,9}\n",
    "set1.pop()\n",
    "print(set1)"
   ]
  },
  {
   "cell_type": "code",
   "execution_count": null,
   "id": "254fa547",
   "metadata": {},
   "outputs": [],
   "source": []
  }
 ],
 "metadata": {
  "kernelspec": {
   "display_name": "Python 3",
   "language": "python",
   "name": "python3"
  },
  "language_info": {
   "codemirror_mode": {
    "name": "ipython",
    "version": 3
   },
   "file_extension": ".py",
   "mimetype": "text/x-python",
   "name": "python",
   "nbconvert_exporter": "python",
   "pygments_lexer": "ipython3",
   "version": "3.8.8"
  }
 },
 "nbformat": 4,
 "nbformat_minor": 5
}
